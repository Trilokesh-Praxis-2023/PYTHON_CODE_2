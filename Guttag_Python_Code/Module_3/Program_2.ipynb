{
 "cells": [
  {
   "cell_type": "code",
   "execution_count": 1,
   "metadata": {},
   "outputs": [
    {
     "name": "stdout",
     "output_type": "stream",
     "text": [
      "numGuesses = 13\n",
      "5.00030517578125 is close to square root of 25\n"
     ]
    }
   ],
   "source": [
    "x = 25\n",
    "epsilon = 0.01\n",
    "numGuesses = 0\n",
    "low = 0.0\n",
    "high = max(1.0, x)\n",
    "ans = (high + low)/2.0\n",
    "while abs(ans**2 - x) >= epsilon:\n",
    "    numGuesses += 1\n",
    "    if ans**2 < x:\n",
    "        low = ans\n",
    "    else:\n",
    "        high = ans\n",
    "    ans = (high + low)/2.0\n",
    "print('numGuesses =', numGuesses)\n",
    "print(ans, 'is close to square root of', x)"
   ]
  },
  {
   "cell_type": "code",
   "execution_count": 2,
   "metadata": {},
   "outputs": [],
   "source": [
    "def max(x, y):\n",
    "    if x > y:\n",
    "        return x\n",
    "    else:\n",
    "        return y"
   ]
  },
  {
   "cell_type": "code",
   "execution_count": 3,
   "metadata": {},
   "outputs": [],
   "source": [
    "def printName(firstName, lastName, reverse): \n",
    "   if reverse:\n",
    "      print(lastName + ', ' + firstName)\n",
    "   else:\n",
    "      print(firstName, lastName)"
   ]
  },
  {
   "cell_type": "code",
   "execution_count": 4,
   "metadata": {},
   "outputs": [
    {
     "name": "stdout",
     "output_type": "stream",
     "text": [
      "Olga Puchmajerova\n",
      "Olga Puchmajerova\n",
      "Olga Puchmajerova\n",
      "Olga Puchmajerova\n",
      "Olga Puchmajerova\n"
     ]
    }
   ],
   "source": [
    "printName('Olga', 'Puchmajerova', False)\n",
    "printName('Olga', 'Puchmajerova', False)\n",
    "printName('Olga', 'Puchmajerova', reverse = False)\n",
    "printName('Olga', lastName = 'Puchmajerova', reverse = False)\n",
    "printName(lastName='Puchmajerova', firstName='Olga', reverse=False)"
   ]
  },
  {
   "cell_type": "code",
   "execution_count": 5,
   "metadata": {},
   "outputs": [
    {
     "ename": "SyntaxError",
     "evalue": "positional argument follows keyword argument (<ipython-input-5-85ff8ba07542>, line 1)",
     "output_type": "error",
     "traceback": [
      "\u001b[1;36m  File \u001b[1;32m\"<ipython-input-5-85ff8ba07542>\"\u001b[1;36m, line \u001b[1;32m1\u001b[0m\n\u001b[1;33m    printName('Olga', lastName = 'Puchmajerova', False)\u001b[0m\n\u001b[1;37m                                                ^\u001b[0m\n\u001b[1;31mSyntaxError\u001b[0m\u001b[1;31m:\u001b[0m positional argument follows keyword argument\n"
     ]
    }
   ],
   "source": [
    "printName('Olga', lastName = 'Puchmajerova', False)"
   ]
  },
  {
   "cell_type": "code",
   "execution_count": 6,
   "metadata": {},
   "outputs": [],
   "source": [
    "def printName(firstName, lastName, reverse = False):\n",
    "   if reverse:\n",
    "      print(lastName + ', ' + firstName)\n",
    "   else:\n",
    "      print(firstName, lastName)"
   ]
  },
  {
   "cell_type": "code",
   "execution_count": 7,
   "metadata": {},
   "outputs": [
    {
     "name": "stdout",
     "output_type": "stream",
     "text": [
      "Olga Puchmajerova\n",
      "Puchmajerova, Olga\n",
      "Puchmajerova, Olga\n"
     ]
    }
   ],
   "source": [
    "printName('Olga', 'Puchmajerova')\n",
    "printName('Olga', 'Puchmajerova', True)\n",
    "printName('Olga', 'Puchmajerova', reverse = True)"
   ]
  },
  {
   "cell_type": "code",
   "execution_count": 9,
   "metadata": {},
   "outputs": [
    {
     "name": "stdout",
     "output_type": "stream",
     "text": [
      "x = 4\n",
      "z = 4\n",
      "x = 3\n",
      "y = 2\n"
     ]
    }
   ],
   "source": [
    "def f(x): #name x used as formal parameter\n",
    "    y = 1\n",
    "    x = x + y\n",
    "    print('x =', x)\n",
    "    return x\n",
    "\n",
    "x = 3\n",
    "y = 2\n",
    "z = f(x) #value of x used as actual parameter\n",
    "print('z =', z)\n",
    "print('x =', x)\n",
    "print('y =', y)"
   ]
  },
  {
   "cell_type": "code",
   "execution_count": 12,
   "metadata": {},
   "outputs": [
    {
     "name": "stdout",
     "output_type": "stream",
     "text": [
      "x = 4\n",
      "z = 4\n",
      "x = abc\n",
      "x = 4\n",
      "x = 3\n",
      "z = <function f.<locals>.g at 0x00000261378FDEA0>\n",
      "x = abc\n"
     ]
    }
   ],
   "source": [
    "def f(x):\n",
    "   def g():\n",
    "      x = 'abc'\n",
    "      print('x =', x)\n",
    "   def h():\n",
    "      z = x\n",
    "      print('z =', z)\n",
    "   x = x + 1\n",
    "   print('x =', x)\n",
    "   h()\n",
    "   g()\n",
    "   print('x =', x)\n",
    "   return g\n",
    "\n",
    "x = 3\n",
    "z = f(x)\n",
    "print('x =', x)\n",
    "print('z =', z)\n",
    "z()"
   ]
  },
  {
   "cell_type": "code",
   "execution_count": 13,
   "metadata": {},
   "outputs": [
    {
     "name": "stdout",
     "output_type": "stream",
     "text": [
      "3\n"
     ]
    },
    {
     "ename": "UnboundLocalError",
     "evalue": "local variable 'x' referenced before assignment",
     "output_type": "error",
     "traceback": [
      "\u001b[1;31m---------------------------------------------------------------------------\u001b[0m",
      "\u001b[1;31mUnboundLocalError\u001b[0m                         Traceback (most recent call last)",
      "\u001b[1;32m<ipython-input-13-4a5515a536de>\u001b[0m in \u001b[0;36m<module>\u001b[1;34m\u001b[0m\n\u001b[0;32m      9\u001b[0m \u001b[0mf\u001b[0m\u001b[1;33m(\u001b[0m\u001b[1;33m)\u001b[0m\u001b[1;33m\u001b[0m\u001b[1;33m\u001b[0m\u001b[0m\n\u001b[0;32m     10\u001b[0m \u001b[0mx\u001b[0m \u001b[1;33m=\u001b[0m \u001b[1;36m3\u001b[0m\u001b[1;33m\u001b[0m\u001b[1;33m\u001b[0m\u001b[0m\n\u001b[1;32m---> 11\u001b[1;33m \u001b[0mg\u001b[0m\u001b[1;33m(\u001b[0m\u001b[1;33m)\u001b[0m\u001b[1;33m\u001b[0m\u001b[1;33m\u001b[0m\u001b[0m\n\u001b[0m",
      "\u001b[1;32m<ipython-input-13-4a5515a536de>\u001b[0m in \u001b[0;36mg\u001b[1;34m()\u001b[0m\n\u001b[0;32m      3\u001b[0m \u001b[1;33m\u001b[0m\u001b[0m\n\u001b[0;32m      4\u001b[0m \u001b[1;32mdef\u001b[0m \u001b[0mg\u001b[0m\u001b[1;33m(\u001b[0m\u001b[1;33m)\u001b[0m\u001b[1;33m:\u001b[0m\u001b[1;33m\u001b[0m\u001b[1;33m\u001b[0m\u001b[0m\n\u001b[1;32m----> 5\u001b[1;33m    \u001b[0mprint\u001b[0m\u001b[1;33m(\u001b[0m\u001b[0mx\u001b[0m\u001b[1;33m)\u001b[0m\u001b[1;33m\u001b[0m\u001b[1;33m\u001b[0m\u001b[0m\n\u001b[0m\u001b[0;32m      6\u001b[0m    \u001b[0mx\u001b[0m \u001b[1;33m=\u001b[0m \u001b[1;36m1\u001b[0m\u001b[1;33m\u001b[0m\u001b[1;33m\u001b[0m\u001b[0m\n\u001b[0;32m      7\u001b[0m \u001b[1;33m\u001b[0m\u001b[0m\n",
      "\u001b[1;31mUnboundLocalError\u001b[0m: local variable 'x' referenced before assignment"
     ]
    }
   ],
   "source": [
    "def f():\n",
    "   print(x)\n",
    "\n",
    "def g():\n",
    "   print(x)\n",
    "   x = 1\n",
    "\n",
    "x = 3\n",
    "f()\n",
    "x = 3\n",
    "g()"
   ]
  },
  {
   "cell_type": "code",
   "execution_count": 14,
   "metadata": {},
   "outputs": [],
   "source": [
    "def findRoot(x, power, epsilon):\n",
    "    \"\"\"Assumes x and epsilon int or float, power an int,\n",
    "           epsilon > 0 & power >= 1\n",
    "       Returns float y such that y**power is within epsilon of x.\n",
    "           If such a float does not exist, it returns None\"\"\"\n",
    "    if x < 0 and power%2 == 0:\n",
    "        return None\n",
    "    low = min(-1.0, x)\n",
    "    high = max(1.0, x)\n",
    "    ans = (high + low)/2.0\n",
    "    while abs(ans**power - x) >= epsilon:\n",
    "        if ans**power < x:\n",
    "            low = ans\n",
    "        else:\n",
    "            high = ans\n",
    "        ans = (high + low)/2.0\n",
    "    return ans"
   ]
  },
  {
   "cell_type": "code",
   "execution_count": 15,
   "metadata": {},
   "outputs": [],
   "source": [
    "def testFindRoot():\n",
    "    epsilon = 0.0001\n",
    "    for x in (0.25, -0.25, 2, -2, 8, -8):\n",
    "        for power in range(1, 4):\n",
    "            print('Testing x = ' + str(x) +\\\n",
    "                  ' and power = ' + str(power))\n",
    "            result = findRoot(x, power, epsilon)\n",
    "            if result == None:\n",
    "                print( '   No root')\n",
    "            else:\n",
    "                print('   ', result**power, '~=', x)"
   ]
  },
  {
   "cell_type": "code",
   "execution_count": 16,
   "metadata": {},
   "outputs": [],
   "source": [
    "def factI(n):\n",
    "   \"\"\"Assumes that n is an int > 0\n",
    "      Returns n!\"\"\"\n",
    "   result = 1\n",
    "   while n > 1:\n",
    "      result = result * n\n",
    "      n -= 1\n",
    "   return result"
   ]
  },
  {
   "cell_type": "code",
   "execution_count": 17,
   "metadata": {},
   "outputs": [],
   "source": [
    "def factR(n):\n",
    "   \"\"\"Assumes that n is an int > 0\n",
    "      Returns n!\"\"\"\n",
    "   if n == 1:\n",
    "      return n\n",
    "   else:\n",
    "       return n*factR(n - 1)"
   ]
  },
  {
   "cell_type": "code",
   "execution_count": 18,
   "metadata": {},
   "outputs": [],
   "source": [
    "def fib(n):\n",
    "    \"\"\"Assumes n an int >= 0\n",
    "       Returns Fibonacci of n\"\"\"\n",
    "    if n == 0 or n == 1:\n",
    "        return 1\n",
    "    else:\n",
    "        return fib(n-1) + fib(n-2)"
   ]
  },
  {
   "cell_type": "code",
   "execution_count": 19,
   "metadata": {},
   "outputs": [],
   "source": [
    "def testFib(n):\n",
    "    for i in range(n+1):\n",
    "        print('fib of', i, '=', fib(i))"
   ]
  },
  {
   "cell_type": "code",
   "execution_count": 21,
   "metadata": {},
   "outputs": [],
   "source": [
    "def isPalindrome(s):\n",
    "   \"\"\"Assumes s is a str\n",
    "      Returns True if s is a palindrome; False otherwise.\n",
    "        Punctuation marks, blanks, and capitalization are\n",
    "        ignored.\"\"\"\n",
    "   \n",
    "   def toChars(s):\n",
    "      s = s.lower()\n",
    "      letters = ''\n",
    "      for c in s:\n",
    "        if c in 'abcdefghijklmnopqrstuvwxyz':\n",
    "            letters = letters + c\n",
    "      return letters\n",
    "\n",
    "   def isPal(s):\n",
    "      print('  isPal called with', s)\n",
    "      if len(s) <= 1:\n",
    "         print('  About to return True from base case')\n",
    "         return True\n",
    "      else:\n",
    "         answer = s[0] == s[-1] and isPal(s[1:-1])\n",
    "         print('  About to return', answer, 'for', s)\n",
    "         return answer\n",
    "         \n",
    "   return isPal(toChars(s))"
   ]
  },
  {
   "cell_type": "code",
   "execution_count": 22,
   "metadata": {},
   "outputs": [],
   "source": [
    "def isPalindrome(s):\n",
    "   \"\"\"Assumes s is a str\n",
    "      Returns True if s is a palindrome; False otherwise.\n",
    "        Punctuation marks, blanks, and capitalization are\n",
    "        ignored.\"\"\"\n",
    "   \n",
    "   def toChars(s):\n",
    "      s = s.lower()\n",
    "      letters = ''\n",
    "      for c in s:\n",
    "        if c in 'abcdefghijklmnopqrstuvwxyz':\n",
    "            letters = letters + c\n",
    "      return letters\n",
    "\n",
    "   def isPal(s):\n",
    "      print('  isPal called with', s)\n",
    "      if len(s) <= 1:\n",
    "         print('  About to return True from base case')\n",
    "         return True\n",
    "      else:\n",
    "         answer = s[0] == s[-1] and isPal(s[1:-1])\n",
    "         print('  About to return', answer, 'for', s)\n",
    "         return answer\n",
    "         \n",
    "   return isPal(toChars(s))"
   ]
  },
  {
   "cell_type": "code",
   "execution_count": 23,
   "metadata": {},
   "outputs": [],
   "source": [
    "def testIsPalindrome():\n",
    "   print('Try dogGod')\n",
    "   print(isPalindrome('dogGod'))\n",
    "   print('Try doGood')\n",
    "   print(isPalindrome('doGood'))"
   ]
  },
  {
   "cell_type": "code",
   "execution_count": 24,
   "metadata": {},
   "outputs": [],
   "source": [
    "def fib(x):\n",
    "    \"\"\"Assumes x an int >= 0\n",
    "       Returns Fibonacci of x\"\"\"\n",
    "    global numFibCalls\n",
    "    numFibCalls += 1\n",
    "    if x == 0 or x == 1:\n",
    "        return 1\n",
    "    else:\n",
    "        return fib(x-1) + fib(x-2)\n",
    "\n",
    "def testFib(n):\n",
    "    for i in range(n+1):\n",
    "        global numFibCalls\n",
    "        numFibCalls = 0\n",
    "        print('fib of', i, '=', fib(i))\n",
    "        print('fib called', numFibCalls, 'times.')\n"
   ]
  },
  {
   "cell_type": "code",
   "execution_count": 26,
   "metadata": {},
   "outputs": [
    {
     "name": "stdout",
     "output_type": "stream",
     "text": [
      "3.14159\n",
      "28.27431\n",
      "18.849539999999998\n",
      "113.09724\n"
     ]
    }
   ],
   "source": [
    "import circle\n",
    "print(circle.pi)\n",
    "print(circle.area(3))\n",
    "print(circle.circumference(3))\n",
    "print(circle.sphereSurface(3))"
   ]
  },
  {
   "cell_type": "code",
   "execution_count": 27,
   "metadata": {},
   "outputs": [
    {
     "name": "stdout",
     "output_type": "stream",
     "text": [
      "3.14159\n",
      "3.14159\n"
     ]
    }
   ],
   "source": [
    "from circle import *\n",
    "print(pi)\n",
    "print(circle.pi)"
   ]
  },
  {
   "cell_type": "code",
   "execution_count": 29,
   "metadata": {},
   "outputs": [
    {
     "name": "stdout",
     "output_type": "stream",
     "text": [
      "Enter name: Jaydip Sen\n",
      "Enter name: Kaushik Sharma\n"
     ]
    }
   ],
   "source": [
    "nameHandle = open('kids', 'w')\n",
    "for i in range(2):\n",
    "    name = input('Enter name: ')\n",
    "    nameHandle.write(name + '\\n')\n",
    "nameHandle.close()"
   ]
  },
  {
   "cell_type": "code",
   "execution_count": 31,
   "metadata": {},
   "outputs": [
    {
     "name": "stdout",
     "output_type": "stream",
     "text": [
      "Jaydip Sen\n",
      "Kaushik Sharma\n"
     ]
    }
   ],
   "source": [
    "nameHandle = open('kids', 'r')\n",
    "for line in nameHandle:\n",
    "    print(line[:-1])\n",
    "nameHandle.close()"
   ]
  },
  {
   "cell_type": "code",
   "execution_count": 32,
   "metadata": {},
   "outputs": [
    {
     "name": "stdout",
     "output_type": "stream",
     "text": [
      "Michael\n",
      "Mark\n"
     ]
    }
   ],
   "source": [
    "nameHandle = open('kids', 'w')\n",
    "nameHandle.write('Michael\\n')\n",
    "nameHandle.write('Mark\\n')\n",
    "nameHandle.close()\n",
    "nameHandle = open('kids', 'r')\n",
    "for line in nameHandle:\n",
    "    print(line[:-1])\n",
    "nameHandle.close()"
   ]
  },
  {
   "cell_type": "code",
   "execution_count": 33,
   "metadata": {},
   "outputs": [
    {
     "name": "stdout",
     "output_type": "stream",
     "text": [
      "Michael\n",
      "Mark\n",
      "David\n",
      "Andrea\n"
     ]
    }
   ],
   "source": [
    "nameHandle = open('kids', 'a')\n",
    "nameHandle.write('David\\n')\n",
    "nameHandle.write('Andrea\\n')\n",
    "nameHandle.close()\n",
    "nameHandle = open('kids', 'r')\n",
    "for line in nameHandle:\n",
    "    print(line[:-1])\n",
    "nameHandle.close()"
   ]
  },
  {
   "cell_type": "code",
   "execution_count": null,
   "metadata": {},
   "outputs": [],
   "source": []
  }
 ],
 "metadata": {
  "kernelspec": {
   "display_name": "Python 3",
   "language": "python",
   "name": "python3"
  },
  "language_info": {
   "codemirror_mode": {
    "name": "ipython",
    "version": 3
   },
   "file_extension": ".py",
   "mimetype": "text/x-python",
   "name": "python",
   "nbconvert_exporter": "python",
   "pygments_lexer": "ipython3",
   "version": "3.6.7"
  }
 },
 "nbformat": 4,
 "nbformat_minor": 2
}
